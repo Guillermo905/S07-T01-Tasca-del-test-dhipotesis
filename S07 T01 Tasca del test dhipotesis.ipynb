{
 "cells": [
  {
   "cell_type": "markdown",
   "id": "40f2769c",
   "metadata": {},
   "source": [
    "# Nivell 1\n",
    "\n",
    "## Exercici 1\n",
    "\n",
    "Agafa un conjunt de dades de tema esportiu que t'agradi i selecciona un atribut del conjunt de dades. Calcula el p-valor i digues si rebutja la hipòtesi nul·la agafant un alfa de 5%. "
   ]
  },
  {
   "cell_type": "markdown",
   "id": "c39b18e8",
   "metadata": {},
   "source": [
    "Igual que en los casos anteriores se va a escoger el dataset relacionado con la pluviometría acumulada en la ciudad de Barcelona (LAT (º): 41,41864; LONG (º): 2,12379; ALT (m): 411) entre los años 1786 y 2021. Además, igual que en los casos anteriores se va a eliminar la primera fila al presentar outlaiers en varios meses."
   ]
  },
  {
   "cell_type": "markdown",
   "id": "d79e2abb",
   "metadata": {},
   "source": [
    "En este primer ejercicio se va a comprobar si uno de los meses sigue una distribución normal. Para escoger el mes más adecuado, primero se va a hacer una exploración gráfica de todos los meses."
   ]
  },
  {
   "cell_type": "code",
   "execution_count": 1,
   "id": "15afab88",
   "metadata": {},
   "outputs": [],
   "source": [
    "import pandas as pd\n",
    "import numpy as np\n",
    "import matplotlib.pyplot as plt\n",
    "import seaborn as sns"
   ]
  },
  {
   "cell_type": "code",
   "execution_count": 11,
   "id": "205b7ed9",
   "metadata": {},
   "outputs": [],
   "source": [
    "pluvi = pd.read_csv('C:/Users/Guillermo/Desktop/Curs Data Scientist/Sprint 5/Barcelona_PPT_m_1786_2021.txt',\n",
    "                   sep='\\t')"
   ]
  },
  {
   "cell_type": "code",
   "execution_count": 12,
   "id": "3822831a",
   "metadata": {},
   "outputs": [
    {
     "name": "stdout",
     "output_type": "stream",
     "text": [
      "(236, 13)\n"
     ]
    },
    {
     "data": {
      "text/html": [
       "<div>\n",
       "<style scoped>\n",
       "    .dataframe tbody tr th:only-of-type {\n",
       "        vertical-align: middle;\n",
       "    }\n",
       "\n",
       "    .dataframe tbody tr th {\n",
       "        vertical-align: top;\n",
       "    }\n",
       "\n",
       "    .dataframe thead th {\n",
       "        text-align: right;\n",
       "    }\n",
       "</style>\n",
       "<table border=\"1\" class=\"dataframe\">\n",
       "  <thead>\n",
       "    <tr style=\"text-align: right;\">\n",
       "      <th></th>\n",
       "      <th>ANY</th>\n",
       "      <th>G</th>\n",
       "      <th>F</th>\n",
       "      <th>M</th>\n",
       "      <th>A</th>\n",
       "      <th>M.1</th>\n",
       "      <th>J</th>\n",
       "      <th>J.1</th>\n",
       "      <th>A.1</th>\n",
       "      <th>S</th>\n",
       "      <th>O</th>\n",
       "      <th>N</th>\n",
       "      <th>D</th>\n",
       "    </tr>\n",
       "  </thead>\n",
       "  <tbody>\n",
       "    <tr>\n",
       "      <th>0</th>\n",
       "      <td>1786</td>\n",
       "      <td>-999.9</td>\n",
       "      <td>-999.9</td>\n",
       "      <td>-999.9</td>\n",
       "      <td>-999.9</td>\n",
       "      <td>-999.9</td>\n",
       "      <td>-999.9</td>\n",
       "      <td>6.8</td>\n",
       "      <td>52.1</td>\n",
       "      <td>62.0</td>\n",
       "      <td>57.0</td>\n",
       "      <td>195.8</td>\n",
       "      <td>114.1</td>\n",
       "    </tr>\n",
       "    <tr>\n",
       "      <th>1</th>\n",
       "      <td>1787</td>\n",
       "      <td>136.4</td>\n",
       "      <td>27.4</td>\n",
       "      <td>44.6</td>\n",
       "      <td>76.9</td>\n",
       "      <td>0.0</td>\n",
       "      <td>29.8</td>\n",
       "      <td>34.7</td>\n",
       "      <td>14.9</td>\n",
       "      <td>205.8</td>\n",
       "      <td>12.4</td>\n",
       "      <td>42.2</td>\n",
       "      <td>0.0</td>\n",
       "    </tr>\n",
       "    <tr>\n",
       "      <th>2</th>\n",
       "      <td>1788</td>\n",
       "      <td>9.9</td>\n",
       "      <td>14.9</td>\n",
       "      <td>32.2</td>\n",
       "      <td>12.4</td>\n",
       "      <td>7.5</td>\n",
       "      <td>146.3</td>\n",
       "      <td>59.4</td>\n",
       "      <td>29.8</td>\n",
       "      <td>123.9</td>\n",
       "      <td>163.6</td>\n",
       "      <td>106.6</td>\n",
       "      <td>22.3</td>\n",
       "    </tr>\n",
       "    <tr>\n",
       "      <th>3</th>\n",
       "      <td>1789</td>\n",
       "      <td>12.4</td>\n",
       "      <td>12.4</td>\n",
       "      <td>23.6</td>\n",
       "      <td>9.9</td>\n",
       "      <td>32.2</td>\n",
       "      <td>9.9</td>\n",
       "      <td>6.3</td>\n",
       "      <td>69.4</td>\n",
       "      <td>18.7</td>\n",
       "      <td>52.1</td>\n",
       "      <td>18.7</td>\n",
       "      <td>76.9</td>\n",
       "    </tr>\n",
       "    <tr>\n",
       "      <th>4</th>\n",
       "      <td>1790</td>\n",
       "      <td>44.6</td>\n",
       "      <td>1.2</td>\n",
       "      <td>188.5</td>\n",
       "      <td>74.4</td>\n",
       "      <td>44.7</td>\n",
       "      <td>39.7</td>\n",
       "      <td>65.7</td>\n",
       "      <td>32.3</td>\n",
       "      <td>71.9</td>\n",
       "      <td>205.8</td>\n",
       "      <td>72.0</td>\n",
       "      <td>14.9</td>\n",
       "    </tr>\n",
       "  </tbody>\n",
       "</table>\n",
       "</div>"
      ],
      "text/plain": [
       "    ANY      G      F      M      A    M.1      J   J.1   A.1      S      O  \\\n",
       "0  1786 -999.9 -999.9 -999.9 -999.9 -999.9 -999.9   6.8  52.1   62.0   57.0   \n",
       "1  1787  136.4   27.4   44.6   76.9    0.0   29.8  34.7  14.9  205.8   12.4   \n",
       "2  1788    9.9   14.9   32.2   12.4    7.5  146.3  59.4  29.8  123.9  163.6   \n",
       "3  1789   12.4   12.4   23.6    9.9   32.2    9.9   6.3  69.4   18.7   52.1   \n",
       "4  1790   44.6    1.2  188.5   74.4   44.7   39.7  65.7  32.3   71.9  205.8   \n",
       "\n",
       "       N      D  \n",
       "0  195.8  114.1  \n",
       "1   42.2    0.0  \n",
       "2  106.6   22.3  \n",
       "3   18.7   76.9  \n",
       "4   72.0   14.9  "
      ]
     },
     "execution_count": 12,
     "metadata": {},
     "output_type": "execute_result"
    }
   ],
   "source": [
    "print(pluvi.shape)\n",
    "pluvi.head()"
   ]
  },
  {
   "cell_type": "code",
   "execution_count": 13,
   "id": "9e5c675e",
   "metadata": {},
   "outputs": [
    {
     "data": {
      "text/html": [
       "<div>\n",
       "<style scoped>\n",
       "    .dataframe tbody tr th:only-of-type {\n",
       "        vertical-align: middle;\n",
       "    }\n",
       "\n",
       "    .dataframe tbody tr th {\n",
       "        vertical-align: top;\n",
       "    }\n",
       "\n",
       "    .dataframe thead th {\n",
       "        text-align: right;\n",
       "    }\n",
       "</style>\n",
       "<table border=\"1\" class=\"dataframe\">\n",
       "  <thead>\n",
       "    <tr style=\"text-align: right;\">\n",
       "      <th></th>\n",
       "      <th>ANY</th>\n",
       "      <th>G</th>\n",
       "      <th>F</th>\n",
       "      <th>M</th>\n",
       "      <th>A</th>\n",
       "      <th>M.1</th>\n",
       "      <th>J</th>\n",
       "      <th>J.1</th>\n",
       "      <th>A.1</th>\n",
       "      <th>S</th>\n",
       "      <th>O</th>\n",
       "      <th>N</th>\n",
       "      <th>D</th>\n",
       "    </tr>\n",
       "  </thead>\n",
       "  <tbody>\n",
       "    <tr>\n",
       "      <th>1</th>\n",
       "      <td>1787</td>\n",
       "      <td>136.4</td>\n",
       "      <td>27.4</td>\n",
       "      <td>44.6</td>\n",
       "      <td>76.9</td>\n",
       "      <td>0.0</td>\n",
       "      <td>29.8</td>\n",
       "      <td>34.7</td>\n",
       "      <td>14.9</td>\n",
       "      <td>205.8</td>\n",
       "      <td>12.4</td>\n",
       "      <td>42.2</td>\n",
       "      <td>0.0</td>\n",
       "    </tr>\n",
       "    <tr>\n",
       "      <th>2</th>\n",
       "      <td>1788</td>\n",
       "      <td>9.9</td>\n",
       "      <td>14.9</td>\n",
       "      <td>32.2</td>\n",
       "      <td>12.4</td>\n",
       "      <td>7.5</td>\n",
       "      <td>146.3</td>\n",
       "      <td>59.4</td>\n",
       "      <td>29.8</td>\n",
       "      <td>123.9</td>\n",
       "      <td>163.6</td>\n",
       "      <td>106.6</td>\n",
       "      <td>22.3</td>\n",
       "    </tr>\n",
       "    <tr>\n",
       "      <th>3</th>\n",
       "      <td>1789</td>\n",
       "      <td>12.4</td>\n",
       "      <td>12.4</td>\n",
       "      <td>23.6</td>\n",
       "      <td>9.9</td>\n",
       "      <td>32.2</td>\n",
       "      <td>9.9</td>\n",
       "      <td>6.3</td>\n",
       "      <td>69.4</td>\n",
       "      <td>18.7</td>\n",
       "      <td>52.1</td>\n",
       "      <td>18.7</td>\n",
       "      <td>76.9</td>\n",
       "    </tr>\n",
       "    <tr>\n",
       "      <th>4</th>\n",
       "      <td>1790</td>\n",
       "      <td>44.6</td>\n",
       "      <td>1.2</td>\n",
       "      <td>188.5</td>\n",
       "      <td>74.4</td>\n",
       "      <td>44.7</td>\n",
       "      <td>39.7</td>\n",
       "      <td>65.7</td>\n",
       "      <td>32.3</td>\n",
       "      <td>71.9</td>\n",
       "      <td>205.8</td>\n",
       "      <td>72.0</td>\n",
       "      <td>14.9</td>\n",
       "    </tr>\n",
       "    <tr>\n",
       "      <th>5</th>\n",
       "      <td>1791</td>\n",
       "      <td>9.9</td>\n",
       "      <td>34.7</td>\n",
       "      <td>9.9</td>\n",
       "      <td>31.1</td>\n",
       "      <td>148.8</td>\n",
       "      <td>2.5</td>\n",
       "      <td>1.2</td>\n",
       "      <td>1.2</td>\n",
       "      <td>119.0</td>\n",
       "      <td>89.2</td>\n",
       "      <td>109.1</td>\n",
       "      <td>34.7</td>\n",
       "    </tr>\n",
       "  </tbody>\n",
       "</table>\n",
       "</div>"
      ],
      "text/plain": [
       "    ANY      G     F      M     A    M.1      J   J.1   A.1      S      O  \\\n",
       "1  1787  136.4  27.4   44.6  76.9    0.0   29.8  34.7  14.9  205.8   12.4   \n",
       "2  1788    9.9  14.9   32.2  12.4    7.5  146.3  59.4  29.8  123.9  163.6   \n",
       "3  1789   12.4  12.4   23.6   9.9   32.2    9.9   6.3  69.4   18.7   52.1   \n",
       "4  1790   44.6   1.2  188.5  74.4   44.7   39.7  65.7  32.3   71.9  205.8   \n",
       "5  1791    9.9  34.7    9.9  31.1  148.8    2.5   1.2   1.2  119.0   89.2   \n",
       "\n",
       "       N     D  \n",
       "1   42.2   0.0  \n",
       "2  106.6  22.3  \n",
       "3   18.7  76.9  \n",
       "4   72.0  14.9  \n",
       "5  109.1  34.7  "
      ]
     },
     "execution_count": 13,
     "metadata": {},
     "output_type": "execute_result"
    }
   ],
   "source": [
    "pluvi2 = pluvi.iloc[1:,]\n",
    "pluvi2.head()"
   ]
  },
  {
   "cell_type": "code",
   "execution_count": 3,
   "id": "655be03d",
   "metadata": {},
   "outputs": [
    {
     "data": {
      "text/plain": [
       "Index(['G', 'F', 'M', 'A', 'M.1', 'J', 'J.1', 'A.1', 'S', 'O', 'N', 'D'], dtype='object')"
      ]
     },
     "execution_count": 3,
     "metadata": {},
     "output_type": "execute_result"
    }
   ],
   "source": [
    "names = pluvi.columns[1:]\n",
    "names"
   ]
  },
  {
   "cell_type": "code",
   "execution_count": 19,
   "id": "5d5ba621",
   "metadata": {},
   "outputs": [
    {
     "data": {
      "image/png": "[encoded data removed]",
      "text/plain": [
       "<Figure size 1080x1080 with 12 Axes>"
      ]
     },
     "metadata": {},
     "output_type": "display_data"
    }
   ],
   "source": [
    "sns.set()\n",
    "plt.figure(figsize=(15,15))\n",
    "\n",
    "for i, mes in enumerate(names):\n",
    "    a = i+1\n",
    "    plt.subplot(4,3,a)\n",
    "    plt.hist(pluvi2[mes])\n",
    "    plt.title(mes)\n",
    "    plt.xlabel('mm acumulados')\n",
    "    plt.ylabel('frec')\n",
    "plt.subplots_adjust(hspace=0.4)    \n",
    "plt.show()"
   ]
  },
  {
   "cell_type": "markdown",
   "id": "5f8114e1",
   "metadata": {},
   "source": [
    "Todos los gráficos son asimétricos y por lo tanto probablemente no presenten una distribución normal. Como el mes de octubre es el que más recuerda a una distribución normal se va a testar a través de varios test estadísticos si sigue esta distribución"
   ]
  },
  {
   "cell_type": "markdown",
   "id": "3a1b96df",
   "metadata": {},
   "source": [
    "El primer test a realizar es el Shapiro-wealks test, siendo:\n",
    "* $H_0$: La muestra presenta una distribución Gaussiana\n",
    "* $H_a$: La muestra no presenta una distribución Gaussiana"
   ]
  },
  {
   "cell_type": "code",
   "execution_count": 22,
   "id": "1fd580dd",
   "metadata": {},
   "outputs": [
    {
     "name": "stdout",
     "output_type": "stream",
     "text": [
      "stat 0.8810348510742188 \n",
      "p 1.293979788770383e-12\n"
     ]
    }
   ],
   "source": [
    "#Shapiro test\n",
    "\n",
    "import scipy.stats as scp\n",
    "\n",
    "stat, p = scp.shapiro(pluvi2.O)\n",
    "\n",
    "print('stat', stat, '\\np', p)"
   ]
  },
  {
   "cell_type": "code",
   "execution_count": 23,
   "id": "055569c1",
   "metadata": {},
   "outputs": [
    {
     "data": {
      "text/plain": [
       "True"
      ]
     },
     "execution_count": 23,
     "metadata": {},
     "output_type": "execute_result"
    }
   ],
   "source": [
    "p<0.05"
   ]
  },
  {
   "cell_type": "markdown",
   "id": "7afe56c0",
   "metadata": {},
   "source": [
    "Como el valor 'p' es menor a 0.05 se rechaza la hipótesis nula y se confirma que no sigue una distribución normal"
   ]
  },
  {
   "cell_type": "markdown",
   "id": "5f56a33e",
   "metadata": {},
   "source": [
    "Igualmente, se va a confirmar esta sospecha con otros test como el D'Agostino y Anderson-Darling que siguen el mismo planteamiento de hipótesis que el Shapiro-Wealks test"
   ]
  },
  {
   "cell_type": "code",
   "execution_count": 25,
   "id": "4e200aaa",
   "metadata": {},
   "outputs": [
    {
     "name": "stdout",
     "output_type": "stream",
     "text": [
      "stat 72.78693237027466 \n",
      "p 1.5650148343536325e-16\n"
     ]
    }
   ],
   "source": [
    "#TEst D'Agostino\n",
    "stat, p = scp.normaltest(pluvi2.O)\n",
    "print('stat', stat, '\\np', p)"
   ]
  },
  {
   "cell_type": "markdown",
   "id": "a7a10ffc",
   "metadata": {},
   "source": [
    "El test de Agostino rechaza, al igual que el test anterior, la hipótesis nula"
   ]
  },
  {
   "cell_type": "code",
   "execution_count": 26,
   "id": "faaaec2f",
   "metadata": {},
   "outputs": [
    {
     "name": "stdout",
     "output_type": "stream",
     "text": [
      "AndersonResult(statistic=7.045605794968424, critical_values=array([0.567, 0.645, 0.774, 0.903, 1.074]), significance_level=array([15. , 10. ,  5. ,  2.5,  1. ]))\n"
     ]
    }
   ],
   "source": [
    "#Test de Anderson-Darling\n",
    "result = scp.anderson(pluvi2.O)\n",
    "print(result)"
   ]
  },
  {
   "cell_type": "markdown",
   "id": "b584454d",
   "metadata": {},
   "source": [
    "En el test de Anderson-Darling para un valor de significación del 0.05 el valor obtenido es de 0.774. Por lo tanto, es mayor de 0.05 y se vuelve a rechazar la hipótesis nula."
   ]
  },
  {
   "cell_type": "code",
   "execution_count": null,
   "id": "665faa69",
   "metadata": {},
   "outputs": [],
   "source": []
  }
 ],
 "metadata": {
  "kernelspec": {
   "display_name": "Python 3 (ipykernel)",
   "language": "python",
   "name": "python3"
  },
  "language_info": {
   "codemirror_mode": {
    "name": "ipython",
    "version": 3
   },
   "file_extension": ".py",
   "mimetype": "text/x-python",
   "name": "python",
   "nbconvert_exporter": "python",
   "pygments_lexer": "ipython3",
   "version": "3.9.7"
  }
 },
 "nbformat": 4,
 "nbformat_minor": 5
}
